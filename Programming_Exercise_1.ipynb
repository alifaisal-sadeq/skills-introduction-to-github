{
  "nbformat": 4,
  "nbformat_minor": 0,
  "metadata": {
    "colab": {
      "provenance": [],
      "authorship_tag": "ABX9TyPr8pUxlRASDV7ECHnokQkn",
      "include_colab_link": true
    },
    "kernelspec": {
      "name": "python3",
      "display_name": "Python 3"
    },
    "language_info": {
      "name": "python"
    }
  },
  "cells": [
    {
      "cell_type": "markdown",
      "metadata": {
        "id": "view-in-github",
        "colab_type": "text"
      },
      "source": [
        "<a href=\"https://colab.research.google.com/github/alifaisal-sadeq/skills-introduction-to-github/blob/main/Programming_Exercise_1.ipynb\" target=\"_parent\"><img src=\"https://colab.research.google.com/assets/colab-badge.svg\" alt=\"Open In Colab\"/></a>"
      ]
    },
    {
      "cell_type": "code",
      "execution_count": 3,
      "metadata": {
        "colab": {
          "base_uri": "https://localhost:8080/"
        },
        "id": "g33UwNE2zvkT",
        "outputId": "c3d2f75a-90e8-4cf5-d7ae-fdd17e5821ae"
      },
      "outputs": [
        {
          "output_type": "stream",
          "name": "stdout",
          "text": [
            "Requirement already satisfied: pyswarms in /usr/local/lib/python3.11/dist-packages (1.3.0)\n",
            "Requirement already satisfied: scipy in /usr/local/lib/python3.11/dist-packages (from pyswarms) (1.14.1)\n",
            "Requirement already satisfied: numpy in /usr/local/lib/python3.11/dist-packages (from pyswarms) (2.0.2)\n",
            "Requirement already satisfied: matplotlib>=1.3.1 in /usr/local/lib/python3.11/dist-packages (from pyswarms) (3.10.0)\n",
            "Requirement already satisfied: attrs in /usr/local/lib/python3.11/dist-packages (from pyswarms) (25.3.0)\n",
            "Requirement already satisfied: tqdm in /usr/local/lib/python3.11/dist-packages (from pyswarms) (4.67.1)\n",
            "Requirement already satisfied: future in /usr/local/lib/python3.11/dist-packages (from pyswarms) (1.0.0)\n",
            "Requirement already satisfied: pyyaml in /usr/local/lib/python3.11/dist-packages (from pyswarms) (6.0.2)\n",
            "Requirement already satisfied: contourpy>=1.0.1 in /usr/local/lib/python3.11/dist-packages (from matplotlib>=1.3.1->pyswarms) (1.3.1)\n",
            "Requirement already satisfied: cycler>=0.10 in /usr/local/lib/python3.11/dist-packages (from matplotlib>=1.3.1->pyswarms) (0.12.1)\n",
            "Requirement already satisfied: fonttools>=4.22.0 in /usr/local/lib/python3.11/dist-packages (from matplotlib>=1.3.1->pyswarms) (4.56.0)\n",
            "Requirement already satisfied: kiwisolver>=1.3.1 in /usr/local/lib/python3.11/dist-packages (from matplotlib>=1.3.1->pyswarms) (1.4.8)\n",
            "Requirement already satisfied: packaging>=20.0 in /usr/local/lib/python3.11/dist-packages (from matplotlib>=1.3.1->pyswarms) (24.2)\n",
            "Requirement already satisfied: pillow>=8 in /usr/local/lib/python3.11/dist-packages (from matplotlib>=1.3.1->pyswarms) (11.1.0)\n",
            "Requirement already satisfied: pyparsing>=2.3.1 in /usr/local/lib/python3.11/dist-packages (from matplotlib>=1.3.1->pyswarms) (3.2.3)\n",
            "Requirement already satisfied: python-dateutil>=2.7 in /usr/local/lib/python3.11/dist-packages (from matplotlib>=1.3.1->pyswarms) (2.8.2)\n",
            "Requirement already satisfied: six>=1.5 in /usr/local/lib/python3.11/dist-packages (from python-dateutil>=2.7->matplotlib>=1.3.1->pyswarms) (1.17.0)\n"
          ]
        }
      ],
      "source": [
        "# Install pyswarms if not already installed (run this once)\n",
        "!pip install pyswarms"
      ]
    },
    {
      "cell_type": "code",
      "source": [
        "import numpy as np\n",
        "import pyswarms as ps\n",
        "\n",
        "c_i = np.array([30, 35, 40, 45, 50])\n",
        "c_io = 1.5 * c_i\n",
        "c_jp = np.array([25, 27, 29, 31, 33])\n",
        "n_fulltime = len(c_i)\n",
        "n_parttime = len(c_jp)\n",
        "n_variables = n_fulltime * 2 + n_parttime\n",
        "\n",
        "def objective_function(X):\n",
        "    # X: shape (n_particles, n_variables)\n",
        "    # Split X into x_i, x_io, x_jp\n",
        "    x_i = X[:, :n_fulltime]\n",
        "    x_io = X[:, n_fulltime:2*n_fulltime]\n",
        "    x_jp = X[:, 2*n_fulltime:]\n",
        "\n",
        "    cost_regular = np.sum(x_i * c_i, axis=1)\n",
        "    cost_overtime = np.sum(x_io * c_io, axis=1)\n",
        "    cost_parttime = np.sum(x_jp * c_jp, axis=1)\n",
        "    total_cost = cost_regular + cost_overtime + cost_parttime\n",
        "\n",
        "\n",
        "    penalty = 0\n",
        "    penalty_factor = 1e6\n",
        "\n",
        "    peak_hours = np.sum(x_i, axis=1) + np.sum(x_io, axis=1)\n",
        "    peak_violation = np.maximum(4 - peak_hours, 0)\n",
        "    penalty += penalty_factor * peak_violation\n",
        "\n",
        "    nonpeak_hours = np.sum(x_jp, axis=1)\n",
        "    nonpeak_violation = np.maximum(2 - nonpeak_hours, 0)\n",
        "    penalty += penalty_factor * nonpeak_violation\n",
        "\n",
        "    return total_cost + penalty\n",
        "\n",
        "def pso_cost(X):\n",
        "    return np.array([objective_function(X[i].reshape(1, -1)) for i in range(X.shape[0])]).flatten()\n",
        "\n",
        "# PSO parameters\n",
        "options = {'c1': 0.5, 'c2': 0.3, 'w': 0.9}\n",
        "n_particles = 50\n",
        "max_iterations = 100\n",
        "lower_bound = np.zeros(n_variables)\n",
        "upper_bound = np.ones(n_variables) * 8\n",
        "bounds = (lower_bound, upper_bound)\n",
        "\n",
        "#run PSO\n",
        "optimizer = ps.single.GlobalBestPSO(\n",
        "    n_particles=n_particles,\n",
        "    dimensions=n_variables,\n",
        "    options=options,\n",
        "    bounds=bounds\n",
        ")\n",
        "best_cost, best_pos = optimizer.optimize(pso_cost, iters=max_iterations)\n",
        "\n",
        "x_i_opt = best_pos[:n_fulltime]\n",
        "x_io_opt = best_pos[n_fulltime:2*n_fulltime]\n",
        "x_jp_opt = best_pos[2*n_fulltime:]\n",
        "\n",
        "# results\n",
        "print(\"\\nOptimal Schedule:\")\n",
        "print(\"Full-time regular hours (x_i):\", np.round(x_i_opt, 2))\n",
        "print(\"Full-time overtime hours (x_io):\", np.round(x_io_opt, 2))\n",
        "print(\"Part-time hours (x_jp):\", np.round(x_jp_opt, 2))\n",
        "print(\"Total labor cost: $\", np.round(best_cost, 2))\n",
        "\n",
        "# Verify constraints\n",
        "peak_total = np.sum(x_i_opt) + np.sum(x_io_opt)\n",
        "nonpeak_total = np.sum(x_jp_opt)\n",
        "print(\"Peak hours total (should be >= 4):\", np.round(peak_total, 2))\n",
        "print(\"Non-peak hours total (should be >= 2):\", np.round(nonpeak_total, 2))"
      ],
      "metadata": {
        "colab": {
          "base_uri": "https://localhost:8080/"
        },
        "id": "OryEQ-lY_fwj",
        "outputId": "754abd04-0554-4788-c9e2-2b3c117d5c6f"
      },
      "execution_count": 4,
      "outputs": [
        {
          "output_type": "stream",
          "name": "stderr",
          "text": [
            "2025-04-04 13:29:32,450 - pyswarms.single.global_best - INFO - Optimize for 100 iters with {'c1': 0.5, 'c2': 0.3, 'w': 0.9}\n",
            "pyswarms.single.global_best: 100%|██████████|100/100, best_cost=762\n",
            "2025-04-04 13:29:33,573 - pyswarms.single.global_best - INFO - Optimization finished | best cost: 762.4005260267063, best pos: [2.50827209 0.03552902 1.3046761  0.19620643 0.43597198 3.42378345\n",
            " 0.1669895  2.06591021 2.16025988 0.93793402 0.32860975 0.29569278\n",
            " 0.30382752 0.380019   1.91966572]\n"
          ]
        },
        {
          "output_type": "stream",
          "name": "stdout",
          "text": [
            "\n",
            "Optimal Schedule:\n",
            "Full-time regular hours (x_i): [2.51 0.04 1.3  0.2  0.44]\n",
            "Full-time overtime hours (x_io): [3.42 0.17 2.07 2.16 0.94]\n",
            "Part-time hours (x_jp): [0.33 0.3  0.3  0.38 1.92]\n",
            "Total labor cost: $ 762.4\n",
            "Peak hours total (should be >= 4): 13.24\n",
            "Non-peak hours total (should be >= 2): 3.23\n"
          ]
        }
      ]
    }
  ]
}